{
 "cells": [
  {
   "cell_type": "markdown",
   "metadata": {},
   "source": [
    "# Hackathon AI Assisted Software engineering 3.0\n",
    "\n",
    "In this script, we test connectivity to the servers with the language models. "
   ]
  },
  {
   "cell_type": "markdown",
   "metadata": {},
   "source": [
    "## The first server \n"
   ]
  },
  {
   "cell_type": "code",
   "execution_count": 1,
   "metadata": {},
   "outputs": [
    {
     "name": "stdout",
     "output_type": "stream",
     "text": [
      "def fibonacci(n):\n",
      "    \"\"\"\n",
      "    Calculate the nth Fibonacci number.\n",
      "\n",
      "    Args:\n",
      "        n (int): The position of the Fibonacci number to calculate.\n",
      "\n",
      "    Returns:\n",
      "        int: The nth Fibonacci number.\n",
      "    \"\"\"\n",
      "\n",
      "    # Create a list to store the first 'n' Fibonacci numbers\n",
      "    fib_numbers = [0, 1]\n",
      "\n",
      "    # If n is less than or equal to 0, raise an error\n",
      "    if n <= 0:\n",
      "        raise ValueError(\"Input should be a positive integer.\")\n",
      "\n",
      "    # Calculate the first 'n' Fibonacci numbers\n",
      "    for i in range(2, n + 1):\n",
      "        fib_numbers.append(fib_numbers[i - 1] + fib_numbers[i - 2])\n",
      "\n",
      "    # Return the nth Fibonacci number\n",
      "    return fib_numbers[n]\n",
      "\n",
      "# Example usage:\n",
      "print(fibonacci(10))  # Output: 55\n"
     ]
    }
   ],
   "source": [
    "import requests\n",
    "import json\n",
    "\n",
    "url = 'http://deeperthought.cse.chalmers.se:80/api/generate'\n",
    "data = {\n",
    "    \"model\": \"llama3.2\",\n",
    "    \"prompt\": \"Write a program to calculate Fibonacci numbers in Python.\",\n",
    "    \"stream\": False\n",
    "    }\n",
    "headers = {'Content-Type': 'application/json'}\n",
    "response = requests.post(url, data=json.dumps(data), headers=headers)\n",
    "\n",
    "json_data = json.loads(response.text)\n",
    "print(json_data['response'])"
   ]
  },
  {
   "cell_type": "markdown",
   "metadata": {},
   "source": [
    "## and now the second server"
   ]
  },
  {
   "cell_type": "code",
   "execution_count": 5,
   "metadata": {},
   "outputs": [
    {
     "name": "stdout",
     "output_type": "stream",
     "text": [
      "def fibonacci(n):\n",
      "    if n <= 0:\n",
      "        return \"Input should be positive integer.\"\n",
      "    elif n == 1:\n",
      "        return 0\n",
      "    elif n == 2:\n",
      "        return 1\n",
      "    else:\n",
      "        a, b = 0, 1\n",
      "        for i in range(2, n):\n",
      "            temp = a + b\n",
      "            a = b\n",
      "            b = temp\n",
      "        return b\n",
      "\n",
      "def main():\n",
      "    num = int(input(\"Enter the position of Fibonacci number: \"))\n",
      "    print(f\"The {num}th Fibonacci number is: {fibonacci(num)}\")\n",
      "\n",
      "if __name__ == \"__main__\":\n",
      "    main()\n"
     ]
    }
   ],
   "source": [
    "import requests\n",
    "import json\n",
    "\n",
    "url = 'http://deepthought.cse.chalmers.se:80/api/generate'\n",
    "data = {\n",
    "    \"model\": \"llama3.2\",\n",
    "    \"prompt\": \"Write a program to calculate Fibonacci numbers in Python.\",\n",
    "    \"stream\": False\n",
    "    }\n",
    "headers = {'Content-Type': 'application/json'}\n",
    "response = requests.post(url, data=json.dumps(data), headers=headers)\n",
    "\n",
    "json_data = json.loads(response.text)\n",
    "print(json_data['response'])"
   ]
  }
 ],
 "metadata": {
  "kernelspec": {
   "display_name": "Python 3",
   "language": "python",
   "name": "python3"
  },
  "language_info": {
   "codemirror_mode": {
    "name": "ipython",
    "version": 3
   },
   "file_extension": ".py",
   "mimetype": "text/x-python",
   "name": "python",
   "nbconvert_exporter": "python",
   "pygments_lexer": "ipython3",
   "version": "3.12.3"
  }
 },
 "nbformat": 4,
 "nbformat_minor": 2
}
