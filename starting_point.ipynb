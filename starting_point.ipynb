{
 "cells": [
  {
   "cell_type": "markdown",
   "metadata": {},
   "source": [
    "# Hackathon AI Assisted Software engineering 3.0\n",
    "\n",
    "In this script, we test connectivity to the servers with the language models. "
   ]
  },
  {
   "cell_type": "markdown",
   "metadata": {},
   "source": [
    "## The first server \n"
   ]
  },
  {
   "cell_type": "code",
   "execution_count": 3,
   "metadata": {},
   "outputs": [
    {
     "name": "stdout",
     "output_type": "stream",
     "text": [
      "def fibonacci(n):\n",
      "    \"\"\"\n",
      "    This function calculates the nth number in the Fibonacci sequence.\n",
      "\n",
      "    Parameters:\n",
      "    n (int): The position of the number in the Fibonacci sequence.\n",
      "\n",
      "    Returns:\n",
      "    int: The nth number in the Fibonacci sequence.\n",
      "    \"\"\"\n",
      "    if n <= 0:\n",
      "        return \"Input should be a positive integer.\"\n",
      "    elif n == 1:\n",
      "        return 0\n",
      "    elif n == 2:\n",
      "        return 1\n",
      "    else:\n",
      "        fib_sequence = [0, 1]\n",
      "        for i in range(2, n):\n",
      "            fib_sequence.append(fib_sequence[i-1] + fib_sequence[i-2])\n",
      "        return fib_sequence[-1]\n",
      "\n",
      "# Test the function\n",
      "print(\"Fibonacci sequence:\")\n",
      "for i in range(1, 11):\n",
      "    print(f\"F({i}) = {fibonacci(i)}\")\n"
     ]
    }
   ],
   "source": [
    "import requests\n",
    "import json\n",
    "\n",
    "url = 'http://deeperthought.cse.chalmers.se:80/api/generate'\n",
    "data = {\n",
    "    \"model\": \"llama3.2\",\n",
    "    \"prompt\": \"Write a program to calculate Fibonacci numbers in Python.\",\n",
    "    \"stream\": False\n",
    "    }\n",
    "headers = {'Content-Type': 'application/json'}\n",
    "response = requests.post(url, data=json.dumps(data), headers=headers)\n",
    "\n",
    "json_data = json.loads(response.text)\n",
    "\n",
    "strFibonacciProgram = json_data['response']\n",
    "\n",
    "print(strFibonacciProgram)"
   ]
  },
  {
   "cell_type": "markdown",
   "metadata": {},
   "source": [
    "## and now the second server"
   ]
  },
  {
   "cell_type": "code",
   "execution_count": 4,
   "metadata": {},
   "outputs": [
    {
     "name": "stdout",
     "output_type": "stream",
     "text": [
      "Here's a test case for this program using Python's built-in unittest module:\n",
      "\n",
      "```python\n",
      "import unittest\n",
      "\n",
      "def fibonacci(n):\n",
      "    \"\"\"\n",
      "    This function calculates the nth number in the Fibonacci sequence.\n",
      "\n",
      "    Parameters:\n",
      "    n (int): The position of the number in the Fibonacci sequence.\n",
      "\n",
      "    Returns:\n",
      "    int: The nth number in the Fibonacci sequence.\n",
      "    \"\"\"\n",
      "    if n <= 0:\n",
      "        return \"Input should be a positive integer.\"\n",
      "    elif n == 1:\n",
      "        return 0\n",
      "    elif n == 2:\n",
      "        return 1\n",
      "    else:\n",
      "        fib_sequence = [0, 1]\n",
      "        for i in range(2, n):\n",
      "            fib_sequence.append(fib_sequence[i-1] + fib_sequence[i-2])\n",
      "        return fib_sequence[-1]\n",
      "\n",
      "class TestFibonacci(unittest.TestCase):\n",
      "\n",
      "    def test_positive_integer(self):\n",
      "        self.assertEqual(fibonacci(9), 21)\n",
      "\n",
      "    def test_zero_input(self):\n",
      "        with self.assertRaises(str):\n",
      "            fibonacci(-3)\n",
      "\n",
      "    def test_invalid_input(self):\n",
      "        with self.assertRaises(str):\n",
      "            fibonacci('abc')\n",
      "\n",
      "    def test_edge_cases(self):\n",
      "        self.assertEqual(fibonacci(1), 0)\n",
      "        self.assertEqual(fibonacci(2), 1)\n",
      "\n",
      "if __name__ == '__main__':\n",
      "    unittest.main()\n",
      "```\n",
      "\n",
      "This code defines a class `TestFibonacci` that contains four methods to test different scenarios:\n",
      "\n",
      "-   `test_positive_integer`: Tests the function with a positive integer input.\n",
      "-   `test_zero_input`: Tests the function with a non-positive integer input and checks if it raises an error as expected.\n",
      "-   `test_invalid_input`: Tests the function with an invalid input type (string) and checks if it raises an error as expected.\n",
      "-   `test_edge_cases`: Tests the function with edge cases like n = 1 and n = 2.\n",
      "\n",
      "To run these tests, save this code in a file named `test_fibonacci.py` and execute it using Python:\n",
      "\n",
      "```bash\n",
      "python test_fibonacci.py\n",
      "```\n",
      "\n",
      "If all tests pass, you should see an output indicating that the tests were successful.\n"
     ]
    }
   ],
   "source": [
    "import requests\n",
    "import json\n",
    "\n",
    "url = 'http://deepthought.cse.chalmers.se:80/api/generate'\n",
    "data = {\n",
    "    \"model\": \"llama3.2\",\n",
    "    \"prompt\": f\"Write a test case for this program: {strFibonacciProgram}\",\n",
    "    \"stream\": False\n",
    "    }\n",
    "headers = {'Content-Type': 'application/json'}\n",
    "response = requests.post(url, data=json.dumps(data), headers=headers)\n",
    "\n",
    "json_data = json.loads(response.text)\n",
    "\n",
    "strTestCase = json_data['response']\n",
    "\n",
    "print(strTestCase)"
   ]
  },
  {
   "cell_type": "code",
   "execution_count": null,
   "metadata": {},
   "outputs": [
    {
     "name": "stdout",
     "output_type": "stream",
     "text": [
      "```python\n",
      "import unittest\n",
      "\n",
      "class TestFactorialRecursive(unittest.TestCase):\n",
      "\n",
      "    def test_non_negative_integer(self):\n",
      "        self.assertEqual(factorial(5), 120)\n",
      "\n",
      "    def test_zero_input(self):\n",
      "        with self.assertRaises(str):\n",
      "            factorial(-3)\n",
      "\n",
      "    def test_invalid_input(self):\n",
      "        with self.assertRaises(str):\n",
      "            factorial('abc')\n",
      "\n",
      "    def test_edge_cases(self):\n",
      "        self.assertEqual(factorial(0), 1)\n",
      "        self.assertEqual(factorial(1), 1)\n",
      "```\n"
     ]
    }
   ],
   "source": [
    "strNewProgram = '''\n",
    "def factorial(n):\n",
    "    if n == 0:\n",
    "        return 1\n",
    "    return n * factorial(n-1)\n",
    "'''\n",
    "fewShotPrompt = f'A good test case for this program {strFibonacciProgram} is: {strTestCase}. Now write a similar test case for {strNewProgram}. Return only the source code for the test case. '\n",
    "\n",
    "url = 'http://deepthought.cse.chalmers.se:80/api/generate'\n",
    "data = {\n",
    "    \"model\": \"llama3.2\",\n",
    "    \"prompt\": fewShotPrompt,\n",
    "    \"stream\": False\n",
    "    }\n",
    "headers = {'Content-Type': 'application/json'}\n",
    "response = requests.post(url, data=json.dumps(data), headers=headers)\n",
    "\n",
    "json_data = json.loads(response.text)\n",
    "\n",
    "strTestCase = json_data['response']\n",
    "\n",
    "print(strTestCase)"
   ]
  },
  {
   "cell_type": "code",
   "execution_count": 32,
   "metadata": {},
   "outputs": [],
   "source": [
    "# now execute this code in python\n",
    "# but first, let us remove the word python and the quotation marks\n",
    "\n",
    "strExec = strTestCase.replace('```python', ' ').replace('```', ' ')\n",
    "\n",
    "strExec = strExec + '\\nprint(\"OK\")'\n",
    "\n",
    "# save this to a file\n",
    "with open('test.py', 'w') as f:\n",
    "    f.write(strExec)"
   ]
  }
 ],
 "metadata": {
  "kernelspec": {
   "display_name": "Python 3",
   "language": "python",
   "name": "python3"
  },
  "language_info": {
   "codemirror_mode": {
    "name": "ipython",
    "version": 3
   },
   "file_extension": ".py",
   "mimetype": "text/x-python",
   "name": "python",
   "nbconvert_exporter": "python",
   "pygments_lexer": "ipython3",
   "version": "3.12.4"
  }
 },
 "nbformat": 4,
 "nbformat_minor": 2
}
