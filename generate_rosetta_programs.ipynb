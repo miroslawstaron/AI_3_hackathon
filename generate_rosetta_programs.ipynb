{
 "cells": [
  {
   "cell_type": "markdown",
   "metadata": {},
   "source": [
    "# Generating programs for all RosettaCode\n",
    "\n",
    "In this script, we take the descriptions of all Rosetta Code programs and generate code for them. \n",
    "\n",
    "We use the Ollama framework for this task\n",
    "\n",
    "The RosettaCode was pulled from this repo: https://github.com/acmeism/RosettaCodeData"
   ]
  },
  {
   "cell_type": "code",
   "execution_count": 17,
   "metadata": {},
   "outputs": [],
   "source": [
    "# imports\n",
    "import requests\n",
    "import json\n",
    "import os\n",
    "import re\n",
    "from tqdm import tqdm"
   ]
  },
  {
   "cell_type": "code",
   "execution_count": null,
   "metadata": {},
   "outputs": [
    {
     "name": "stderr",
     "output_type": "stream",
     "text": [
      "23029it [03:14, 148.76it/s] "
     ]
    }
   ],
   "source": [
    "# list all text files that contain text \"TASK\" in the filename from all subdirectories of ../RosettaCodeData\n",
    "listTasks = []\n",
    "\n",
    "for root, dirs, files in tqdm(os.walk('../RosettaCodeData/Task')):\n",
    "    for file in files:\n",
    "        if re.search(r'TASK', file):\n",
    "            listTasks.append(os.path.join(root, file))"
   ]
  },
  {
   "cell_type": "code",
   "execution_count": null,
   "metadata": {},
   "outputs": [],
   "source": [
    "def generate_code(task):\n",
    "    # Define the API endpoint URL\n",
    "    url = 'http://deepthought.cse.chalmers.se:80/api/generate'\n",
    "    \n",
    "    # Prepare the data payload for the POST request\n",
    "    data = {\n",
    "        \"model\": \"llama3.2\",  # Specify the model to use\n",
    "        \"prompt\": f\"Write a python program to solve the task {task}. Generate only the code.\",  # Define the prompt\n",
    "        \"stream\": False  # Indicate whether to stream the response\n",
    "    }\n",
    "    \n",
    "    # Set the headers for the POST request\n",
    "    headers = {'Content-Type': 'application/json'}\n",
    "    \n",
    "    # Send the POST request to the API endpoint\n",
    "    response = requests.post(url, data=json.dumps(data), headers=headers)\n",
    "    \n",
    "    # Parse the JSON response from the API\n",
    "    json_data = json.loads(response.text)\n",
    "    \n",
    "    # Return the generated code from the response\n",
    "    return json_data['response']"
   ]
  },
  {
   "cell_type": "code",
   "execution_count": null,
   "metadata": {},
   "outputs": [],
   "source": [
    "# now, take the test from each file and create the prompt for\n",
    "# f'Write a python program to solve this task {task}'\n",
    "# and send it to the model\n",
    "\n",
    "\n",
    "for task in tqdm(listTasks):\n",
    "    with open(task, 'r') as f:\n",
    "        # print(f'Processing: {task}')\n",
    "        text = f.read()\n",
    "        # extract the last two elements of the path of task\n",
    "        task_filename_to_save = task.split('/')[-2:]\n",
    "        task = task_filename_to_save[0] + '_' + task_filename_to_save[1].split('.')[0]\n",
    "        # generate the code\n",
    "        strCode = generate_code(text)\n",
    "        # write this to the file in the folder ./rosetta_programs\n",
    "        with open(f'./rosetta_programs/{task}.py', 'w') as f:\n",
    "            f.write(strCode)"
   ]
  }
 ],
 "metadata": {
  "kernelspec": {
   "display_name": "Python 3",
   "language": "python",
   "name": "python3"
  },
  "language_info": {
   "codemirror_mode": {
    "name": "ipython",
    "version": 3
   },
   "file_extension": ".py",
   "mimetype": "text/x-python",
   "name": "python",
   "nbconvert_exporter": "python",
   "pygments_lexer": "ipython3",
   "version": "3.12.3"
  }
 },
 "nbformat": 4,
 "nbformat_minor": 2
}
